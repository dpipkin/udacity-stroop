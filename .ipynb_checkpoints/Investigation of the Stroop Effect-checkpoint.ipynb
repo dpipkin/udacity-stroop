{
 "cells": [
  {
   "cell_type": "markdown",
   "metadata": {},
   "source": [
    "## Investigation of the Stroop Effect"
   ]
  },
  {
   "cell_type": "markdown",
   "metadata": {},
   "source": [
    "Author: Daniel Pipkin"
   ]
  },
  {
   "cell_type": "code",
   "execution_count": 1,
   "metadata": {
    "collapsed": true
   },
   "outputs": [],
   "source": [
    "# Imports for python\n",
    "import math\n",
    "import pandas as pd\n",
    "import numpy as np\n",
    "import seaborn as sns\n",
    "from scipy.stats import t\n",
    "%matplotlib inline"
   ]
  },
  {
   "cell_type": "markdown",
   "metadata": {},
   "source": [
    "1) **What is our independent variable? What is our dependent variable?**"
   ]
  },
  {
   "cell_type": "markdown",
   "metadata": {},
   "source": [
    "Our independent variable is whether the task has the congruent or incongruent condition. Basically we are trying to figure out if there is a difference between those two conditions. The dependent variable, time, is what we are going to test to see if it changes in relation to our conditions."
   ]
  },
  {
   "cell_type": "markdown",
   "metadata": {},
   "source": [
    "2) **What is an appropriate set of hypotheses for this task? What kind of statistical test do you expect to perform? Justify your choices.**"
   ]
  },
  {
   "cell_type": "markdown",
   "metadata": {},
   "source": [
    "Because our null hypothesis (H<sub>0</sub>) is usually saying that nothing changes, a good null hypothesis might be that there is no change in the times for the two tasks. However, based on past experiences with the Stroop task, my alternative hypothesis (H<sub>A</sub>) would be that it takes more time to do the incongruent task. It's hard to say the color without reading the associated word. We are guessing that that the incongruent-task times will be greater than the congruent-task times. Because of this one-sided H<sub>A</sub>, H<sub>0</sub> must match by being one-sided.  \n",
    "The sample means are easy to figure out and we could just compare those and say that if the average incongruent-task time is longer than the average congruent-task time, so we accept H<sub>A</sub>. That was easy! But they could be different by chance. Maybe this small sample that we took is a group of very talented people. We want to see if there is a *statistically* significant difference overall in the average time of the two tasks.  \n",
    "This table summarizes the hypotheses in formal and informal language:"
   ]
  },
  {
   "cell_type": "markdown",
   "metadata": {},
   "source": [
    "| Formal Language                          | Informal Language                        |\n",
    "| ---------------------------------------- | ---------------------------------------- |\n",
    "| __H<sub>0</sub>__: μ<sub>incongruent</sub> ≤ μ<sub>congruent</sub> | Null Hypothesis:  Saying the color name when it differs from the text is easier than (or just as easy as) saying it when the text matches. |\n",
    "| __H<sub>A</sub>__: μ<sub>incongruent</sub> > μ<sub>congruent</sub> | Alternative Hypothesis: Saying the color name when it differs from the text is harder than saying it when the text matches. |"
   ]
  },
  {
   "cell_type": "markdown",
   "metadata": {},
   "source": [
    "Here &mu;<sub>incongruent</sub> means the *hypothetical* average time for the incongruent task. If we could gather all the people in the world and record their times for each condition in the Stroop task, this would be the average time it took someone to do the task with the incongruent condition. &mu;<sub>congruent</sub> is the same, except with times for the congruent task.  \n",
    "Given that we have a sample size less than 30 and we don't know the population standard deviations, the most appropriate statistical test for our experiment would be a one-tailed t-test. Because our subjects took the tests at different times, we have dependent samples. We can compare the two averages of dependent samples with a one-tailed t-test.<sup>1</sup>"
   ]
  },
  {
   "cell_type": "markdown",
   "metadata": {},
   "source": [
    "3) **Report some descriptive statistics regarding this dataset. Include at least one measure of central tendency and at least one measure of variability.**"
   ]
  },
  {
   "cell_type": "code",
   "execution_count": 2,
   "metadata": {
    "collapsed": true
   },
   "outputs": [],
   "source": [
    "df = pd.read_csv('./stroopdata.csv')"
   ]
  },
  {
   "cell_type": "code",
   "execution_count": 3,
   "metadata": {
    "collapsed": false
   },
   "outputs": [
    {
     "name": "stdout",
     "output_type": "stream",
     "text": [
      "Congruent      14.051125\n",
      "Incongruent    22.015917\n",
      "dtype: float64\n",
      "Congruent      3.559358\n",
      "Incongruent    4.797057\n",
      "dtype: float64\n"
     ]
    }
   ],
   "source": [
    "print(df.mean(axis=0))\n",
    "print(df.std(axis=0))"
   ]
  },
  {
   "cell_type": "markdown",
   "metadata": {},
   "source": [
    "**x&#772;<sub>congruent</sub>** = 14.05  \n",
    "**x&#772;<sub>incongruent</sub>** = 22.02  \n",
    "**s<sub>congruent</sub>** = 3.56  \n",
    "**s<sub>incongruent</sub>** = 4.80  "
   ]
  },
  {
   "cell_type": "markdown",
   "metadata": {},
   "source": [
    "x&#773; refers to the average from our sample, rather than the *hypothetical* average represented as &mu; above."
   ]
  },
  {
   "cell_type": "markdown",
   "metadata": {},
   "source": [
    "4) **Provide one or two visualizations that show the distribution of the sample data. Write one or two sentences noting what you observe about the plot or plots.**"
   ]
  },
  {
   "cell_type": "code",
   "execution_count": 4,
   "metadata": {
    "collapsed": false
   },
   "outputs": [
    {
     "data": {
      "text/plain": [
       "<matplotlib.axes._subplots.AxesSubplot at 0x2b2c2965978>"
      ]
     },
     "execution_count": 4,
     "metadata": {},
     "output_type": "execute_result"
    },
    {
     "data": {
      "image/png": "[encoded data removed]",
      "text/plain": [
       "<matplotlib.figure.Figure at 0x2b2be5cbeb8>"
      ]
     },
     "metadata": {},
     "output_type": "display_data"
    }
   ],
   "source": [
    "sns.distplot(df['Congruent'])"
   ]
  },
  {
   "cell_type": "markdown",
   "metadata": {},
   "source": [
    "The data is more or less normally distributed. And just like we saw before, the middle of the data is a little bit less than 15."
   ]
  },
  {
   "cell_type": "code",
   "execution_count": 5,
   "metadata": {
    "collapsed": false
   },
   "outputs": [
    {
     "data": {
      "text/plain": [
       "<matplotlib.axes._subplots.AxesSubplot at 0x2b2c2ed24e0>"
      ]
     },
     "execution_count": 5,
     "metadata": {},
     "output_type": "execute_result"
    },
    {
     "data": {
      "image/png": "[encoded data removed]",
      "text/plain": [
       "<matplotlib.figure.Figure at 0x2b2c2965908>"
      ]
     },
     "metadata": {},
     "output_type": "display_data"
    }
   ],
   "source": [
    "sns.distplot(df['Incongruent'])"
   ]
  },
  {
   "cell_type": "markdown",
   "metadata": {},
   "source": [
    "There are some interesting data points on the upper end of this distribution that skew it right, other than that, it looks like we expected it to be."
   ]
  },
  {
   "cell_type": "markdown",
   "metadata": {},
   "source": [
    "5) **Now, perform the statistical test and report your results. What is your confidence level and your critical statistic value? Do you reject the null hypothesis or fail to reject it? Come to a conclusion in terms of the experiment task. Did the results match up with your expectations?**"
   ]
  },
  {
   "cell_type": "code",
   "execution_count": 6,
   "metadata": {
    "collapsed": false
   },
   "outputs": [
    {
     "name": "stdout",
     "output_type": "stream",
     "text": [
      "24\n",
      "24\n"
     ]
    }
   ],
   "source": [
    "# Make sure that our samples are of the same size, and show that size\n",
    "print(df['Congruent'].size)\n",
    "print(df['Incongruent'].size)"
   ]
  },
  {
   "cell_type": "code",
   "execution_count": 7,
   "metadata": {
    "collapsed": false
   },
   "outputs": [
    {
     "data": {
      "text/plain": [
       "1.7138715277470473"
      ]
     },
     "execution_count": 7,
     "metadata": {},
     "output_type": "execute_result"
    }
   ],
   "source": [
    "# Get the t-critical value for a 95% confidence level and 23 d.f.\n",
    "t.ppf(.95, 23)"
   ]
  },
  {
   "cell_type": "markdown",
   "metadata": {},
   "source": [
    "For a confidence level of 95% and 23 degrees of freedom, our t-critical value ends up being **1.7139**"
   ]
  },
  {
   "cell_type": "markdown",
   "metadata": {},
   "source": [
    "Our point estimate for the difference of the means is: 22.02 - 14.05 = **7.97**"
   ]
  },
  {
   "cell_type": "markdown",
   "metadata": {},
   "source": [
    "Our standard deviation of the differences is calculated below."
   ]
  },
  {
   "cell_type": "code",
   "execution_count": 8,
   "metadata": {
    "collapsed": false
   },
   "outputs": [
    {
     "data": {
      "text/plain": [
       "4.8648269103590556"
      ]
     },
     "execution_count": 8,
     "metadata": {},
     "output_type": "execute_result"
    }
   ],
   "source": [
    "df['Difference'] = df['Congruent'] - df['Incongruent']\n",
    "df['Difference'].std(axis=0)"
   ]
  },
  {
   "cell_type": "markdown",
   "metadata": {},
   "source": [
    "This means our t-statistic will be:"
   ]
  },
  {
   "cell_type": "code",
   "execution_count": 9,
   "metadata": {
    "collapsed": false
   },
   "outputs": [
    {
     "data": {
      "text/plain": [
       "8.025996238275749"
      ]
     },
     "execution_count": 9,
     "metadata": {},
     "output_type": "execute_result"
    }
   ],
   "source": [
    "7.97/(4.8648 / math.sqrt(24))"
   ]
  },
  {
   "cell_type": "markdown",
   "metadata": {},
   "source": [
    "Because our t-statistic (**8.02**) is greater than our critical value (**1.7139**), we can reject the null hypothesis. This means that it *does* take much less time to do the congruent task than it does to do the incongruent task. This matches up with what we expected."
   ]
  },
  {
   "cell_type": "markdown",
   "metadata": {},
   "source": [
    "---"
   ]
  },
  {
   "cell_type": "markdown",
   "metadata": {},
   "source": [
    "1. This is based on information found at [Statistics How-to](http://www.statisticshowto.com/when-to-use-a-t-score-vs-z-score/)."
   ]
  }
 ],
 "metadata": {
  "kernelspec": {
   "display_name": "Python 3",
   "language": "python",
   "name": "python3"
  },
  "language_info": {
   "codemirror_mode": {
    "name": "ipython",
    "version": 3
   },
   "file_extension": ".py",
   "mimetype": "text/x-python",
   "name": "python",
   "nbconvert_exporter": "python",
   "pygments_lexer": "ipython3",
   "version": "3.5.2"
  }
 },
 "nbformat": 4,
 "nbformat_minor": 0
}
